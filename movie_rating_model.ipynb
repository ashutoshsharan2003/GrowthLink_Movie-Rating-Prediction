# 📦 Install dependencies
!pip install pandas scikit-learn

# 📤 Upload CSV
from google.colab import files
import pandas as pd
from sklearn.model_selection import train_test_split
from sklearn.preprocessing import LabelEncoder
from sklearn.ensemble import RandomForestRegressor
from sklearn.metrics import mean_squared_error, r2_score

uploaded = files.upload()
filename = next(iter(uploaded))

# ✅ Read CSV with fallback encoding
df = pd.read_csv(filename, encoding='ISO-8859-1')

# ✅ Display column names
print("🧾 Columns in your CSV:")
print(df.columns)

# ✅ Fix column renaming
df.rename(columns={
    'Name': 'title',
    'Genre': 'genre',
    'Rating': 'rating',
    'Director': 'director'
}, inplace=True)

# ✅ Required columns check
required_cols = ['director', 'genre', 'rating']
missing_cols = [col for col in required_cols if col not in df.columns]
if missing_cols:
    raise ValueError(f"Missing required columns: {missing_cols}")

# ✅ Fill missing values
df['director'] = df['director'].fillna('Unknown')
df['genre'] = df['genre'].fillna('Unknown')
df['rating'] = df['rating'].fillna(df['rating'].mean())

# ✅ Create dummy budget (since missing in dataset)
df['budget'] = 0  # default to 0

# ✅ Feature Engineering
director_avg = df.groupby('director')['rating'].mean().to_dict()
df['director_success'] = df['director'].map(director_avg)

genre_avg = df.groupby('genre')['rating'].mean().to_dict()
df['genre_avg_rating'] = df['genre'].map(genre_avg)

# ✅ Label Encoding
le = LabelEncoder()
df['genre'] = le.fit_transform(df['genre'])
df['director'] = le.fit_transform(df['director'])

# ✅ Prepare features & target
X = df[['genre', 'director', 'budget', 'director_success', 'genre_avg_rating']]
y = df['rating']

# ✅ Train/Test split
X_train, X_test, y_train, y_test = train_test_split(X, y, test_size=0.2, random_state=42)

# ✅ Train model
model = RandomForestRegressor(n_estimators=100, random_state=42)
model.fit(X_train, y_train)

# ✅ Evaluate model
y_pred = model.predict(X_test)
mse = mean_squared_error(y_test, y_pred)
r2 = r2_score(y_test, y_pred)

print(f"\n✅ Mean Squared Error: {mse:.2f}")
print(f"✅ R² Score: {r2:.2f}")
